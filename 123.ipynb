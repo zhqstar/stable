{
    "cells": [
      {
        "cell_type": "markdown",
        "metadata": {
          "id": "view-in-github"
        },
        "source": [
          "[![Open In Colab](https://colab.research.google.com/assets/colab-badge.svg)](https://colab.research.google.com/github.com/zhqstar/stable/blob/main/stab.ipynb)"
        ]
      },
      {
        "cell_type": "code",
        "execution_count": null,
        "metadata": {
          "id": "SaAJk33ppFw1"
        },
        "outputs": [],
        "source": [
          "!pip install -q https://github.com/camenduru/stable-diffusion-webui-colab/releases/download/0.0.15/xformers-0.0.15+e163309.d20230103-cp38-cp38-linux_x86_64.whl\n",
          "\n",
          "!git clone https://github.com/camenduru/stable-diffusion-webui\n",
          "!git clone https://github.com/deforum-art/deforum-for-automatic1111-webui /content/stable-diffusion-webui/extensions/deforum-for-automatic1111-webui\n",
          "!git clone https://github.com/yfszzx/stable-diffusion-webui-images-browser /content/stable-diffusion-webui/extensions/stable-diffusion-webui-images-browser\n",
          "!git clone https://github.com/camenduru/stable-diffusion-webui-huggingface /content/stable-diffusion-webui/extensions/stable-diffusion-webui-huggingface\n",
          "%cd /content/stable-diffusion-webui\n",
          "\n",
        "!wget https://r2.kamiya-b.me/dreambooth_lib/akakura-sn.ckpt -O /content/stable-diffusion-webui/models/Stable-diffusion/akakura-sn.ckpt\n",
          "\n",
          "!python launch.py --share --xformers"
        ]
      }
    ],
    "metadata": {
      "accelerator": "GPU",
      "colab": {
        "collapsed_sections": [],
        "private_outputs": true,
        "provenance": []
      },
      "gpuClass": "standard",
      "kernelspec": {
        "display_name": "Python 3",
        "name": "python3"
      },
      "language_info": {
        "name": "python"
      }
    },
    "nbformat": 4,
    "nbformat_minor": 0
  }
  
